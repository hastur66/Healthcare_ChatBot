{
 "cells": [
  {
   "cell_type": "code",
   "execution_count": 1,
   "metadata": {},
   "outputs": [],
   "source": [
    "import numpy as np\n",
    "import random\n",
    "import json\n",
    "import pickle\n",
    "\n",
    "import tensorflow as tf\n",
    "from tensorflow.keras.models import Sequential\n",
    "from tensorflow.keras.layers import Dense, LSTM, Dropout, Flatten, Embedding\n",
    "\n",
    "import nltk\n",
    "from nltk.stem import WordNetLemmatizer"
   ]
  },
  {
   "cell_type": "code",
   "execution_count": 2,
   "metadata": {},
   "outputs": [],
   "source": [
    "#nltk.download('punkt', download_dir='/home/chamath/Documents/PyProjects/ChatBot')\n",
    "#nltk.download('wordnet', download_dir='/home/chamath/Documents/PyProjects/ChatBot')\n",
    "\n",
    "nltk.data.path.append('/home/chamath/Documents/PyProjects/ChatBot')"
   ]
  },
  {
   "cell_type": "code",
   "execution_count": 3,
   "metadata": {},
   "outputs": [],
   "source": [
    "words = []\n",
    "classes = []\n",
    "documnets = []\n",
    "ignore_word = ['?', '!']"
   ]
  },
  {
   "cell_type": "code",
   "execution_count": 4,
   "metadata": {},
   "outputs": [],
   "source": [
    "#data_file = open('intents.json').read()\n",
    "#intents = json.load(data_file)\n",
    "with open('intents.json', 'r') as data_file:\n",
    "    intents = json.load(data_file)"
   ]
  },
  {
   "cell_type": "code",
   "execution_count": 5,
   "metadata": {},
   "outputs": [],
   "source": [
    "for intent in intents['intents']:\n",
    "    for pattern in intent['patterns']:\n",
    "        w = nltk.word_tokenize(pattern)\n",
    "        words.extend(w)\n",
    "        documnets.append((w, intent['tag']))\n",
    "        \n",
    "        if intent['tag'] not in classes:\n",
    "            classes.append(intent['tag'])"
   ]
  },
  {
   "cell_type": "code",
   "execution_count": 6,
   "metadata": {},
   "outputs": [
    {
     "name": "stdout",
     "output_type": "stream",
     "text": [
      "47 documents\n",
      "9 classes ['adverse_drug', 'blood_pressure', 'blood_pressure_search', 'goodbye', 'greeting', 'hospital_search', 'options', 'pharmacy_search', 'thanks']\n",
      "88 unique lemmatized words [\"'s\", ',', 'a', 'adverse', 'all', 'anyone', 'are', 'awesome', 'be', 'behavior', 'blood', 'by', 'bye', 'can', 'causing', 'chatting', 'check', 'could', 'data', 'day', 'detail', 'do', 'dont', 'drug', 'entry', 'find', 'for', 'give', 'good', 'goodbye', 'have', 'hello', 'help', 'helpful', 'helping', 'hey', 'hi', 'history', 'hola', 'hospital', 'how', 'i', 'id', 'is', 'later', 'list', 'load', 'locate', 'log', 'looking', 'lookup', 'management', 'me', 'module', 'nearby', 'next', 'nice', 'of', 'offered', 'open', 'patient', 'pharmacy', 'pressure', 'provide', 'reaction', 'related', 'result', 'search', 'searching', 'see', 'show', 'suitable', 'support', 'task', 'thank', 'thanks', 'that', 'there', 'till', 'time', 'to', 'transfer', 'up', 'want', 'what', 'which', 'with', 'you']\n"
     ]
    }
   ],
   "source": [
    "lemmatizer = WordNetLemmatizer()\n",
    "\n",
    "words = [lemmatizer.lemmatize(w.lower()) for w in words if w not in ignore_word]\n",
    "words = sorted(list(set(words)))\n",
    "\n",
    "classes = sorted(list(set(classes)))\n",
    "\n",
    "print(len(documnets), \"documents\")\n",
    "print(len(classes), \"classes\", classes)\n",
    "print(len(words), \"unique lemmatized words\", words)\n",
    "\n",
    "pickle.dump(words, open('words.pkl', 'wb'))\n",
    "pickle.dump(classes, open('classes.pkl', 'wb'))\n"
   ]
  },
  {
   "cell_type": "code",
   "execution_count": 7,
   "metadata": {},
   "outputs": [
    {
     "name": "stdout",
     "output_type": "stream",
     "text": [
      "Training data created\n"
     ]
    },
    {
     "name": "stderr",
     "output_type": "stream",
     "text": [
      "<ipython-input-7-509f833c5f7b>:19: VisibleDeprecationWarning: Creating an ndarray from ragged nested sequences (which is a list-or-tuple of lists-or-tuples-or ndarrays with different lengths or shapes) is deprecated. If you meant to do this, you must specify 'dtype=object' when creating the ndarray\n",
      "  training = np.array(training)\n"
     ]
    }
   ],
   "source": [
    "training = []\n",
    "output_empty = [0] * len(classes)\n",
    "\n",
    "for doc in documnets:\n",
    "    bag = []\n",
    "    pattern_words = doc[0]\n",
    "    pattern_words = [lemmatizer.lemmatize(word.lower()) for word in pattern_words]\n",
    "    \n",
    "    for w in words:\n",
    "        bag.append(1) if w in pattern_words else bag.append(0)\n",
    "    \n",
    "    output_row = list(output_empty)\n",
    "    output_row[classes.index(doc[1])] = 1\n",
    "    \n",
    "    training.append([bag, output_row])\n",
    " \n",
    "random.shuffle(training)\n",
    "\n",
    "training = np.array(training)\n",
    "\n",
    "train_x = list(training[:, 0])\n",
    "train_y = list(training[:, 1])\n",
    "\n",
    "print(\"Training data created\")"
   ]
  },
  {
   "cell_type": "code",
   "execution_count": 18,
   "metadata": {},
   "outputs": [
    {
     "name": "stdout",
     "output_type": "stream",
     "text": [
      "88\n",
      "88\n",
      "<class 'list'>\n"
     ]
    }
   ],
   "source": [
    "print(len(train_x[0]))\n",
    "print(len(train_x[46]))\n",
    "print(type(train_x))"
   ]
  },
  {
   "cell_type": "code",
   "execution_count": 19,
   "metadata": {},
   "outputs": [
    {
     "data": {
      "text/plain": [
       "(47, 88)"
      ]
     },
     "execution_count": 19,
     "metadata": {},
     "output_type": "execute_result"
    }
   ],
   "source": [
    "train_x = np.array(train_x)\n",
    "train_y = np.array(train_y)\n",
    "train_x.shape"
   ]
  },
  {
   "cell_type": "code",
   "execution_count": 26,
   "metadata": {},
   "outputs": [
    {
     "name": "stdout",
     "output_type": "stream",
     "text": [
      "(47, 9)\n"
     ]
    }
   ],
   "source": [
    "len(train_x[0])\n",
    "print(train_y.shape)"
   ]
  },
  {
   "cell_type": "code",
   "execution_count": 33,
   "metadata": {},
   "outputs": [],
   "source": [
    "model = Sequential()\n",
    "\n",
    "model.add(Dense(128, input_shape=(len(train_x[0]),), activation='relu'))\n",
    "#model.add(Embedding(89, 10, input_length=len(train_x[0])))\n",
    "#model.add(LSTM(8, return_sequences=True, input_shape=(88, 10)))\n",
    "model.add(Dense(64, activation='relu'))\n",
    "model.add(Dense(32, activation='relu'))\n",
    "model.add(Dropout(0.5))\n",
    "model.add(Dense(len(train_y[0]), activation='softmax'))"
   ]
  },
  {
   "cell_type": "code",
   "execution_count": 34,
   "metadata": {},
   "outputs": [],
   "source": [
    "model.compile(optimizer='adam', loss='categorical_crossentropy', metrics=['accuracy'])"
   ]
  },
  {
   "cell_type": "code",
   "execution_count": 35,
   "metadata": {},
   "outputs": [
    {
     "name": "stdout",
     "output_type": "stream",
     "text": [
      "Epoch 1/50\n",
      "10/10 [==============================] - 3s 10ms/step - loss: 2.2139 - accuracy: 0.0927\n",
      "Epoch 2/50\n",
      "10/10 [==============================] - 0s 12ms/step - loss: 2.1567 - accuracy: 0.1792\n",
      "Epoch 3/50\n",
      "10/10 [==============================] - 0s 8ms/step - loss: 2.0523 - accuracy: 0.3449\n",
      "Epoch 4/50\n",
      "10/10 [==============================] - 0s 8ms/step - loss: 2.0389 - accuracy: 0.3580\n",
      "Epoch 5/50\n",
      "10/10 [==============================] - 0s 9ms/step - loss: 1.9858 - accuracy: 0.2616\n",
      "Epoch 6/50\n",
      "10/10 [==============================] - 0s 8ms/step - loss: 1.9274 - accuracy: 0.4934\n",
      "Epoch 7/50\n",
      "10/10 [==============================] - 0s 10ms/step - loss: 1.8578 - accuracy: 0.3662\n",
      "Epoch 8/50\n",
      "10/10 [==============================] - 0s 8ms/step - loss: 1.8321 - accuracy: 0.4875\n",
      "Epoch 9/50\n",
      "10/10 [==============================] - 0s 9ms/step - loss: 1.7299 - accuracy: 0.4907\n",
      "Epoch 10/50\n",
      "10/10 [==============================] - 0s 10ms/step - loss: 1.5961 - accuracy: 0.5411\n",
      "Epoch 11/50\n",
      "10/10 [==============================] - 0s 9ms/step - loss: 1.5395 - accuracy: 0.5236\n",
      "Epoch 12/50\n",
      "10/10 [==============================] - 0s 7ms/step - loss: 1.4570 - accuracy: 0.6088\n",
      "Epoch 13/50\n",
      "10/10 [==============================] - 0s 9ms/step - loss: 1.3209 - accuracy: 0.5812\n",
      "Epoch 14/50\n",
      "10/10 [==============================] - 0s 7ms/step - loss: 1.1846 - accuracy: 0.6834\n",
      "Epoch 15/50\n",
      "10/10 [==============================] - 0s 7ms/step - loss: 1.1304 - accuracy: 0.6654\n",
      "Epoch 16/50\n",
      "10/10 [==============================] - 0s 9ms/step - loss: 0.9739 - accuracy: 0.7418\n",
      "Epoch 17/50\n",
      "10/10 [==============================] - 0s 10ms/step - loss: 0.9425 - accuracy: 0.7947\n",
      "Epoch 18/50\n",
      "10/10 [==============================] - 0s 9ms/step - loss: 0.7220 - accuracy: 0.7364\n",
      "Epoch 19/50\n",
      "10/10 [==============================] - 0s 13ms/step - loss: 0.9114 - accuracy: 0.7449\n",
      "Epoch 20/50\n",
      "10/10 [==============================] - 0s 14ms/step - loss: 0.7967 - accuracy: 0.7087\n",
      "Epoch 21/50\n",
      "10/10 [==============================] - 0s 10ms/step - loss: 0.6333 - accuracy: 0.7689\n",
      "Epoch 22/50\n",
      "10/10 [==============================] - 0s 8ms/step - loss: 0.7632 - accuracy: 0.7216\n",
      "Epoch 23/50\n",
      "10/10 [==============================] - 0s 10ms/step - loss: 0.4862 - accuracy: 0.9098\n",
      "Epoch 24/50\n",
      "10/10 [==============================] - 0s 7ms/step - loss: 0.5990 - accuracy: 0.8368\n",
      "Epoch 25/50\n",
      "10/10 [==============================] - 0s 8ms/step - loss: 0.3942 - accuracy: 0.9408\n",
      "Epoch 26/50\n",
      "10/10 [==============================] - 0s 9ms/step - loss: 0.5699 - accuracy: 0.8682\n",
      "Epoch 27/50\n",
      "10/10 [==============================] - 0s 11ms/step - loss: 0.3715 - accuracy: 0.9519\n",
      "Epoch 28/50\n",
      "10/10 [==============================] - 0s 10ms/step - loss: 0.4091 - accuracy: 0.8567\n",
      "Epoch 29/50\n",
      "10/10 [==============================] - 0s 9ms/step - loss: 0.2587 - accuracy: 0.9690\n",
      "Epoch 30/50\n",
      "10/10 [==============================] - 0s 9ms/step - loss: 0.3693 - accuracy: 0.8999\n",
      "Epoch 31/50\n",
      "10/10 [==============================] - 0s 7ms/step - loss: 0.2287 - accuracy: 0.9462\n",
      "Epoch 32/50\n",
      "10/10 [==============================] - 0s 9ms/step - loss: 0.2073 - accuracy: 0.9679\n",
      "Epoch 33/50\n",
      "10/10 [==============================] - 0s 8ms/step - loss: 0.2415 - accuracy: 0.9573\n",
      "Epoch 34/50\n",
      "10/10 [==============================] - 0s 10ms/step - loss: 0.2218 - accuracy: 0.9638\n",
      "Epoch 35/50\n",
      "10/10 [==============================] - 0s 13ms/step - loss: 0.2091 - accuracy: 0.9455\n",
      "Epoch 36/50\n",
      "10/10 [==============================] - 0s 11ms/step - loss: 0.1907 - accuracy: 0.9447\n",
      "Epoch 37/50\n",
      "10/10 [==============================] - 0s 8ms/step - loss: 0.1223 - accuracy: 0.9561\n",
      "Epoch 38/50\n",
      "10/10 [==============================] - 0s 9ms/step - loss: 0.2465 - accuracy: 0.9420\n",
      "Epoch 39/50\n",
      "10/10 [==============================] - 0s 11ms/step - loss: 0.2162 - accuracy: 0.9918\n",
      "Epoch 40/50\n",
      "10/10 [==============================] - 0s 10ms/step - loss: 0.1429 - accuracy: 0.9780\n",
      "Epoch 41/50\n",
      "10/10 [==============================] - 0s 9ms/step - loss: 0.1505 - accuracy: 0.9553\n",
      "Epoch 42/50\n",
      "10/10 [==============================] - 0s 10ms/step - loss: 0.1218 - accuracy: 0.9708\n",
      "Epoch 43/50\n",
      "10/10 [==============================] - 0s 8ms/step - loss: 0.0965 - accuracy: 0.9629\n",
      "Epoch 44/50\n",
      "10/10 [==============================] - 0s 12ms/step - loss: 0.2538 - accuracy: 0.9447\n",
      "Epoch 45/50\n",
      "10/10 [==============================] - 0s 11ms/step - loss: 0.1194 - accuracy: 0.9673\n",
      "Epoch 46/50\n",
      "10/10 [==============================] - 0s 7ms/step - loss: 0.1649 - accuracy: 0.9523\n",
      "Epoch 47/50\n",
      "10/10 [==============================] - 0s 8ms/step - loss: 0.0531 - accuracy: 1.0000\n",
      "Epoch 48/50\n",
      "10/10 [==============================] - 0s 7ms/step - loss: 0.1337 - accuracy: 0.9803\n",
      "Epoch 49/50\n",
      "10/10 [==============================] - 0s 8ms/step - loss: 0.1479 - accuracy: 0.9918\n",
      "Epoch 50/50\n",
      "10/10 [==============================] - 0s 6ms/step - loss: 0.1612 - accuracy: 0.9699\n"
     ]
    },
    {
     "data": {
      "text/plain": [
       "<tensorflow.python.keras.callbacks.History at 0x7fa8e0ebcfa0>"
      ]
     },
     "execution_count": 35,
     "metadata": {},
     "output_type": "execute_result"
    }
   ],
   "source": [
    "model.fit(np.array(train_x), np.array(train_y), epochs=50, batch_size=5, verbose=1)"
   ]
  },
  {
   "cell_type": "code",
   "execution_count": 36,
   "metadata": {},
   "outputs": [],
   "source": [
    "model.save('chatbot_model_model2.h5')"
   ]
  },
  {
   "cell_type": "code",
   "execution_count": null,
   "metadata": {},
   "outputs": [],
   "source": []
  }
 ],
 "metadata": {
  "kernelspec": {
   "display_name": "Python [conda env:tf2]",
   "language": "python",
   "name": "conda-env-tf2-py"
  },
  "language_info": {
   "codemirror_mode": {
    "name": "ipython",
    "version": 3
   },
   "file_extension": ".py",
   "mimetype": "text/x-python",
   "name": "python",
   "nbconvert_exporter": "python",
   "pygments_lexer": "ipython3",
   "version": "3.8.8"
  }
 },
 "nbformat": 4,
 "nbformat_minor": 4
}
