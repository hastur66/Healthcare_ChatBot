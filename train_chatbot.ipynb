{
 "cells": [
  {
   "cell_type": "code",
   "execution_count": 2,
   "metadata": {},
   "outputs": [],
   "source": [
    "import numpy as np\n",
    "import random\n",
    "import json\n",
    "import pickle\n",
    "\n",
    "import tensorflow as tf\n",
    "from tensorflow.keras.models import Sequential\n",
    "from tensorflow.keras.layers import Dense, LSTM, Dropout, Flatten\n",
    "\n",
    "import nltk\n",
    "from nltk.stem import WordNetLemmatizer"
   ]
  },
  {
   "cell_type": "code",
   "execution_count": 2,
   "metadata": {},
   "outputs": [],
   "source": [
    "nltk.download('punkt', download_dir='/home/chamath/Documents/PyProjects/ChatBot')\n",
    "nltk.download('wordnet', download_dir='/home/chamath/Documents/PyProjects/ChatBot')\n",
    "\n",
    "nltk.data.path.append('/home/chamath/Documents/PyProjects/ChatBot')"
   ]
  },
  {
   "cell_type": "code",
   "execution_count": 3,
   "metadata": {},
   "outputs": [],
   "source": [
    "words = []\n",
    "classes = []\n",
    "documnets = []\n",
    "ignore_word = ['?', '!']\n",
    "\n",
    "#data_file = open('intents.json').read()\n",
    "#intents = json.load(data_file)\n",
    "with open('intents.json', 'r') as data_file:\n",
    "    intents = json.load(data_file)"
   ]
  },
  {
   "cell_type": "code",
   "execution_count": 4,
   "metadata": {},
   "outputs": [],
   "source": [
    "for intent in intents['intents']:\n",
    "    for pattern in intent['patterns']:\n",
    "        w = nltk.word_tokenize(pattern)\n",
    "        words.extend(w)\n",
    "        documnets.append((w, intent['tag']))\n",
    "        \n",
    "        if intent['tag'] not in classes:\n",
    "            classes.append(intent['tag'])"
   ]
  },
  {
   "cell_type": "code",
   "execution_count": 11,
   "metadata": {},
   "outputs": [
    {
     "name": "stdout",
     "output_type": "stream",
     "text": [
      "47 documents\n",
      "9 classes ['adverse_drug', 'blood_pressure', 'blood_pressure_search', 'goodbye', 'greeting', 'hospital_search', 'options', 'pharmacy_search', 'thanks']\n",
      "88 unique lemmatized words [\"'s\", ',', 'a', 'adverse', 'all', 'anyone', 'are', 'awesome', 'be', 'behavior', 'blood', 'by', 'bye', 'can', 'causing', 'chatting', 'check', 'could', 'data', 'day', 'detail', 'do', 'dont', 'drug', 'entry', 'find', 'for', 'give', 'good', 'goodbye', 'have', 'hello', 'help', 'helpful', 'helping', 'hey', 'hi', 'history', 'hola', 'hospital', 'how', 'i', 'id', 'is', 'later', 'list', 'load', 'locate', 'log', 'looking', 'lookup', 'management', 'me', 'module', 'nearby', 'next', 'nice', 'of', 'offered', 'open', 'patient', 'pharmacy', 'pressure', 'provide', 'reaction', 'related', 'result', 'search', 'searching', 'see', 'show', 'suitable', 'support', 'task', 'thank', 'thanks', 'that', 'there', 'till', 'time', 'to', 'transfer', 'up', 'want', 'what', 'which', 'with', 'you']\n"
     ]
    }
   ],
   "source": [
    "lemmatizer = WordNetLemmatizer()\n",
    "\n",
    "words = [lemmatizer.lemmatize(w.lower()) for w in words if w not in ignore_word]\n",
    "words = sorted(list(set(words)))\n",
    "\n",
    "classes = sorted(list(set(classes)))\n",
    "\n",
    "print(len(documnets), \"documents\")\n",
    "print(len(classes), \"classes\", classes)\n",
    "print(len(words), \"unique lemmatized words\", words)\n",
    "\n",
    "pickle.dump(words, open('words.pkl', 'wb'))\n",
    "pickle.dump(classes, open('classes.pkl', 'wb'))\n"
   ]
  },
  {
   "cell_type": "code",
   "execution_count": 14,
   "metadata": {},
   "outputs": [
    {
     "name": "stdout",
     "output_type": "stream",
     "text": [
      "Training data created\n"
     ]
    },
    {
     "name": "stderr",
     "output_type": "stream",
     "text": [
      "<ipython-input-14-509f833c5f7b>:19: VisibleDeprecationWarning: Creating an ndarray from ragged nested sequences (which is a list-or-tuple of lists-or-tuples-or ndarrays with different lengths or shapes) is deprecated. If you meant to do this, you must specify 'dtype=object' when creating the ndarray\n",
      "  training = np.array(training)\n"
     ]
    }
   ],
   "source": [
    "training = []\n",
    "output_empty = [0] * len(classes)\n",
    "\n",
    "for doc in documnets:\n",
    "    bag = []\n",
    "    pattern_words = doc[0]\n",
    "    pattern_words = [lemmatizer.lemmatize(word.lower()) for word in pattern_words]\n",
    "    \n",
    "    for w in words:\n",
    "        bag.append(1) if w in pattern_words else bag.append(0)\n",
    "    \n",
    "    output_row = list(output_empty)\n",
    "    output_row[classes.index(doc[1])] = 1\n",
    "    \n",
    "    training.append([bag, output_row])\n",
    " \n",
    "random.shuffle(training)\n",
    "\n",
    "training = np.array(training)\n",
    "\n",
    "train_x = list(training[:, 0])\n",
    "train_y = list(training[:, 1])\n",
    "\n",
    "print(\"Training data created\")"
   ]
  },
  {
   "cell_type": "code",
   "execution_count": 26,
   "metadata": {},
   "outputs": [
    {
     "data": {
      "text/plain": [
       "88"
      ]
     },
     "execution_count": 26,
     "metadata": {},
     "output_type": "execute_result"
    }
   ],
   "source": [
    "len(train_x[0])"
   ]
  },
  {
   "cell_type": "code",
   "execution_count": 27,
   "metadata": {},
   "outputs": [],
   "source": [
    "model = Sequential()\n",
    "\n",
    "model.add(Dense(128, input_shape=(len(train_x[0]),), activation='relu'))\n",
    "model.add(Dense(32, activation='relu'))\n",
    "model.add(Dense(64, activation='relu'))\n",
    "model.add(Dropout(0.5))\n",
    "model.add(Dense(len(train_y[0]), activation='softmax'))"
   ]
  },
  {
   "cell_type": "code",
   "execution_count": 28,
   "metadata": {},
   "outputs": [],
   "source": [
    "model.compile(optimizer='adam', loss='categorical_crossentropy', metrics=['accuracy'])"
   ]
  },
  {
   "cell_type": "code",
   "execution_count": 29,
   "metadata": {},
   "outputs": [
    {
     "name": "stdout",
     "output_type": "stream",
     "text": [
      "Epoch 1/50\n",
      "10/10 [==============================] - 4s 7ms/step - loss: 2.1847 - accuracy: 0.0991\n",
      "Epoch 2/50\n",
      "10/10 [==============================] - 0s 8ms/step - loss: 2.1861 - accuracy: 0.0668\n",
      "Epoch 3/50\n",
      "10/10 [==============================] - 0s 10ms/step - loss: 2.0968 - accuracy: 0.3183\n",
      "Epoch 4/50\n",
      "10/10 [==============================] - 0s 13ms/step - loss: 2.0862 - accuracy: 0.2927\n",
      "Epoch 5/50\n",
      "10/10 [==============================] - 0s 19ms/step - loss: 2.0732 - accuracy: 0.2566\n",
      "Epoch 6/50\n",
      "10/10 [==============================] - 0s 16ms/step - loss: 1.9908 - accuracy: 0.3509\n",
      "Epoch 7/50\n",
      "10/10 [==============================] - 0s 10ms/step - loss: 1.9242 - accuracy: 0.4823\n",
      "Epoch 8/50\n",
      "10/10 [==============================] - 0s 10ms/step - loss: 1.8522 - accuracy: 0.4563\n",
      "Epoch 9/50\n",
      "10/10 [==============================] - 0s 10ms/step - loss: 1.8006 - accuracy: 0.4950\n",
      "Epoch 10/50\n",
      "10/10 [==============================] - 0s 17ms/step - loss: 1.6837 - accuracy: 0.5906\n",
      "Epoch 11/50\n",
      "10/10 [==============================] - 0s 10ms/step - loss: 1.5844 - accuracy: 0.6054\n",
      "Epoch 12/50\n",
      "10/10 [==============================] - 0s 8ms/step - loss: 1.4660 - accuracy: 0.7885\n",
      "Epoch 13/50\n",
      "10/10 [==============================] - 0s 7ms/step - loss: 1.2810 - accuracy: 0.7343\n",
      "Epoch 14/50\n",
      "10/10 [==============================] - 0s 7ms/step - loss: 1.0390 - accuracy: 0.9243\n",
      "Epoch 15/50\n",
      "10/10 [==============================] - 0s 6ms/step - loss: 0.9939 - accuracy: 0.8276\n",
      "Epoch 16/50\n",
      "10/10 [==============================] - 0s 9ms/step - loss: 0.7530 - accuracy: 0.9479\n",
      "Epoch 17/50\n",
      "10/10 [==============================] - 0s 5ms/step - loss: 0.7536 - accuracy: 0.9472\n",
      "Epoch 18/50\n",
      "10/10 [==============================] - 0s 9ms/step - loss: 0.6242 - accuracy: 0.8847\n",
      "Epoch 19/50\n",
      "10/10 [==============================] - 0s 6ms/step - loss: 0.5048 - accuracy: 0.9273\n",
      "Epoch 20/50\n",
      "10/10 [==============================] - 0s 9ms/step - loss: 0.5323 - accuracy: 0.8887\n",
      "Epoch 21/50\n",
      "10/10 [==============================] - 0s 8ms/step - loss: 0.2874 - accuracy: 0.9780\n",
      "Epoch 22/50\n",
      "10/10 [==============================] - 0s 5ms/step - loss: 0.2760 - accuracy: 0.9466\n",
      "Epoch 23/50\n",
      "10/10 [==============================] - 0s 8ms/step - loss: 0.2797 - accuracy: 1.0000\n",
      "Epoch 24/50\n",
      "10/10 [==============================] - 0s 6ms/step - loss: 0.1938 - accuracy: 1.0000\n",
      "Epoch 25/50\n",
      "10/10 [==============================] - 0s 9ms/step - loss: 0.2074 - accuracy: 1.0000\n",
      "Epoch 26/50\n",
      "10/10 [==============================] - 0s 8ms/step - loss: 0.1334 - accuracy: 1.0000\n",
      "Epoch 27/50\n",
      "10/10 [==============================] - 0s 7ms/step - loss: 0.1393 - accuracy: 0.9834\n",
      "Epoch 28/50\n",
      "10/10 [==============================] - 0s 8ms/step - loss: 0.1392 - accuracy: 0.9961\n",
      "Epoch 29/50\n",
      "10/10 [==============================] - 0s 5ms/step - loss: 0.1020 - accuracy: 0.9892\n",
      "Epoch 30/50\n",
      "10/10 [==============================] - 0s 7ms/step - loss: 0.0841 - accuracy: 1.0000\n",
      "Epoch 31/50\n",
      "10/10 [==============================] - 0s 6ms/step - loss: 0.1018 - accuracy: 1.0000\n",
      "Epoch 32/50\n",
      "10/10 [==============================] - 0s 7ms/step - loss: 0.1240 - accuracy: 1.0000\n",
      "Epoch 33/50\n",
      "10/10 [==============================] - 0s 8ms/step - loss: 0.0674 - accuracy: 0.9862\n",
      "Epoch 34/50\n",
      "10/10 [==============================] - 0s 17ms/step - loss: 0.0927 - accuracy: 1.0000\n",
      "Epoch 35/50\n",
      "10/10 [==============================] - 0s 16ms/step - loss: 0.0302 - accuracy: 1.0000\n",
      "Epoch 36/50\n",
      "10/10 [==============================] - 0s 11ms/step - loss: 0.1584 - accuracy: 0.9388\n",
      "Epoch 37/50\n",
      "10/10 [==============================] - 0s 12ms/step - loss: 0.0918 - accuracy: 0.9720\n",
      "Epoch 38/50\n",
      "10/10 [==============================] - 0s 13ms/step - loss: 0.0482 - accuracy: 0.9892\n",
      "Epoch 39/50\n",
      "10/10 [==============================] - 0s 9ms/step - loss: 0.0329 - accuracy: 1.0000\n",
      "Epoch 40/50\n",
      "10/10 [==============================] - 0s 10ms/step - loss: 0.0701 - accuracy: 1.0000\n",
      "Epoch 41/50\n",
      "10/10 [==============================] - 0s 13ms/step - loss: 0.0332 - accuracy: 1.0000\n",
      "Epoch 42/50\n",
      "10/10 [==============================] - 0s 9ms/step - loss: 0.0631 - accuracy: 1.0000\n",
      "Epoch 43/50\n",
      "10/10 [==============================] - 0s 9ms/step - loss: 0.0258 - accuracy: 1.0000\n",
      "Epoch 44/50\n",
      "10/10 [==============================] - 0s 15ms/step - loss: 0.0313 - accuracy: 1.0000\n",
      "Epoch 45/50\n",
      "10/10 [==============================] - 0s 16ms/step - loss: 0.0241 - accuracy: 1.0000\n",
      "Epoch 46/50\n",
      "10/10 [==============================] - 0s 10ms/step - loss: 0.0723 - accuracy: 0.9826\n",
      "Epoch 47/50\n",
      "10/10 [==============================] - 0s 8ms/step - loss: 0.0234 - accuracy: 1.0000\n",
      "Epoch 48/50\n",
      "10/10 [==============================] - 0s 9ms/step - loss: 0.0572 - accuracy: 0.9661\n",
      "Epoch 49/50\n",
      "10/10 [==============================] - 0s 9ms/step - loss: 0.0964 - accuracy: 0.9629\n",
      "Epoch 50/50\n",
      "10/10 [==============================] - 0s 7ms/step - loss: 0.0263 - accuracy: 1.0000\n"
     ]
    },
    {
     "data": {
      "text/plain": [
       "<tensorflow.python.keras.callbacks.History at 0x7f28a0a5f280>"
      ]
     },
     "execution_count": 29,
     "metadata": {},
     "output_type": "execute_result"
    }
   ],
   "source": [
    "model.fit(np.array(train_x), np.array(train_y), epochs=50, batch_size=5, verbose=1)"
   ]
  },
  {
   "cell_type": "code",
   "execution_count": 30,
   "metadata": {},
   "outputs": [],
   "source": [
    "model.save('chatbot_model1.h5')"
   ]
  },
  {
   "cell_type": "code",
   "execution_count": null,
   "metadata": {},
   "outputs": [],
   "source": []
  }
 ],
 "metadata": {
  "kernelspec": {
   "display_name": "Python [conda env:tf2]",
   "language": "python",
   "name": "conda-env-tf2-py"
  },
  "language_info": {
   "codemirror_mode": {
    "name": "ipython",
    "version": 3
   },
   "file_extension": ".py",
   "mimetype": "text/x-python",
   "name": "python",
   "nbconvert_exporter": "python",
   "pygments_lexer": "ipython3",
   "version": "3.8.8"
  }
 },
 "nbformat": 4,
 "nbformat_minor": 4
}
